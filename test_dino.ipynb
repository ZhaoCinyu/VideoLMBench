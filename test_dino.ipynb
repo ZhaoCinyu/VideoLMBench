{
 "cells": [
  {
   "cell_type": "code",
   "execution_count": 1,
   "metadata": {},
   "outputs": [
    {
     "name": "stderr",
     "output_type": "stream",
     "text": [
      "/home/xinyuzh/anaconda3/envs/llava/lib/python3.10/site-packages/huggingface_hub/file_download.py:1150: FutureWarning: `resume_download` is deprecated and will be removed in version 1.0.0. Downloads always resume when possible. If you want to force a new download, use `force_download=True`.\n",
      "  warnings.warn(\n",
      "/home/xinyuzh/anaconda3/envs/llava/lib/python3.10/site-packages/huggingface_hub/file_download.py:1150: FutureWarning: `resume_download` is deprecated and will be removed in version 1.0.0. Downloads always resume when possible. If you want to force a new download, use `force_download=True`.\n",
      "  warnings.warn(\n",
      "Could not load the custom kernel for multi-scale deformable attention: [Errno 2] No such file or directory: '/home/xinyuzh/anaconda3/envs/llava/lib/python3.10/site-packages/transformers/kernels/grounding_dino/vision.cpp'\n",
      "Could not load the custom kernel for multi-scale deformable attention: [Errno 2] No such file or directory: '/home/xinyuzh/anaconda3/envs/llava/lib/python3.10/site-packages/transformers/kernels/grounding_dino/vision.cpp'\n",
      "Could not load the custom kernel for multi-scale deformable attention: [Errno 2] No such file or directory: '/home/xinyuzh/anaconda3/envs/llava/lib/python3.10/site-packages/transformers/kernels/grounding_dino/vision.cpp'\n",
      "Could not load the custom kernel for multi-scale deformable attention: [Errno 2] No such file or directory: '/home/xinyuzh/anaconda3/envs/llava/lib/python3.10/site-packages/transformers/kernels/grounding_dino/vision.cpp'\n",
      "Could not load the custom kernel for multi-scale deformable attention: [Errno 2] No such file or directory: '/home/xinyuzh/anaconda3/envs/llava/lib/python3.10/site-packages/transformers/kernels/grounding_dino/vision.cpp'\n",
      "Could not load the custom kernel for multi-scale deformable attention: [Errno 2] No such file or directory: '/home/xinyuzh/anaconda3/envs/llava/lib/python3.10/site-packages/transformers/kernels/grounding_dino/vision.cpp'\n",
      "Could not load the custom kernel for multi-scale deformable attention: [Errno 2] No such file or directory: '/home/xinyuzh/anaconda3/envs/llava/lib/python3.10/site-packages/transformers/kernels/grounding_dino/vision.cpp'\n",
      "Could not load the custom kernel for multi-scale deformable attention: [Errno 2] No such file or directory: '/home/xinyuzh/anaconda3/envs/llava/lib/python3.10/site-packages/transformers/kernels/grounding_dino/vision.cpp'\n",
      "Could not load the custom kernel for multi-scale deformable attention: [Errno 2] No such file or directory: '/home/xinyuzh/anaconda3/envs/llava/lib/python3.10/site-packages/transformers/kernels/grounding_dino/vision.cpp'\n",
      "Could not load the custom kernel for multi-scale deformable attention: [Errno 2] No such file or directory: '/home/xinyuzh/anaconda3/envs/llava/lib/python3.10/site-packages/transformers/kernels/grounding_dino/vision.cpp'\n",
      "Could not load the custom kernel for multi-scale deformable attention: [Errno 2] No such file or directory: '/home/xinyuzh/anaconda3/envs/llava/lib/python3.10/site-packages/transformers/kernels/grounding_dino/vision.cpp'\n",
      "Could not load the custom kernel for multi-scale deformable attention: [Errno 2] No such file or directory: '/home/xinyuzh/anaconda3/envs/llava/lib/python3.10/site-packages/transformers/kernels/grounding_dino/vision.cpp'\n"
     ]
    },
    {
     "name": "stdout",
     "output_type": "stream",
     "text": [
      "[{'scores': tensor([0.4786, 0.4384, 0.4770], device='cuda:0'), 'labels': ['a cat', 'a cat', 'a remote control'], 'boxes': tensor([[344.6974,  23.1110, 637.1826, 374.2717],\n",
      "        [ 12.2682,  51.9198, 316.8585, 472.4335],\n",
      "        [ 38.5861,  70.0083, 176.7750, 118.1764]], device='cuda:0')}]\n"
     ]
    }
   ],
   "source": [
    "import requests\n",
    "\n",
    "import torch\n",
    "from PIL import Image\n",
    "from transformers import AutoProcessor, AutoModelForZeroShotObjectDetection\n",
    "\n",
    "model_id = \"IDEA-Research/grounding-dino-tiny\"\n",
    "device = \"cuda\"\n",
    "\n",
    "processor = AutoProcessor.from_pretrained(model_id)\n",
    "model = AutoModelForZeroShotObjectDetection.from_pretrained(model_id).to(device)\n",
    "\n",
    "image_url = \"http://images.cocodataset.org/val2017/000000039769.jpg\"\n",
    "image = Image.open(requests.get(image_url, stream=True).raw)\n",
    "# Check for cats and remote controls\n",
    "text = \"a cat. a remote control.\"\n",
    "\n",
    "inputs = processor(images=image, text=text, return_tensors=\"pt\").to(device)\n",
    "with torch.no_grad():\n",
    "    outputs = model(**inputs)\n",
    "\n",
    "results = processor.post_process_grounded_object_detection(\n",
    "    outputs,\n",
    "    inputs.input_ids,\n",
    "    box_threshold=0.4,\n",
    "    text_threshold=0.3,\n",
    "    target_sizes=[image.size[::-1]]\n",
    ")\n",
    "print(results)"
   ]
  }
 ],
 "metadata": {
  "kernelspec": {
   "display_name": "llava",
   "language": "python",
   "name": "python3"
  },
  "language_info": {
   "codemirror_mode": {
    "name": "ipython",
    "version": 3
   },
   "file_extension": ".py",
   "mimetype": "text/x-python",
   "name": "python",
   "nbconvert_exporter": "python",
   "pygments_lexer": "ipython3",
   "version": "3.10.0"
  }
 },
 "nbformat": 4,
 "nbformat_minor": 2
}
